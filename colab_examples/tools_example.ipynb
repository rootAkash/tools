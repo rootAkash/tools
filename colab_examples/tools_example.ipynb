{
  "nbformat": 4,
  "nbformat_minor": 0,
  "metadata": {
    "colab": {
      "provenance": []
    },
    "kernelspec": {
      "name": "python3",
      "display_name": "Python 3"
    },
    "language_info": {
      "name": "python"
    }
  },
  "cells": [
    {
      "cell_type": "markdown",
      "source": [
        "mount your gdrive"
      ],
      "metadata": {
        "id": "VdpxM-uYhdXN"
      }
    },
    {
      "cell_type": "code",
      "source": [
        "from google.colab import drive\n",
        "\n",
        "drive.mount(\"/content/drive\")"
      ],
      "metadata": {
        "id": "1FHRG9OJhMJR"
      },
      "execution_count": null,
      "outputs": []
    },
    {
      "cell_type": "markdown",
      "source": [
        "Clone and install the tools repo"
      ],
      "metadata": {
        "id": "CM4W8tHWivDc"
      }
    },
    {
      "cell_type": "code",
      "execution_count": null,
      "metadata": {
        "id": "qegTsVRMgkQr"
      },
      "outputs": [],
      "source": [
        "!git clone https://github.com/rootAkash/tools.git\n",
        "%cd tools/\n",
        "!pip install -r requirements.txt"
      ]
    },
    {
      "cell_type": "code",
      "source": [
        "!npm install localtunnel"
      ],
      "metadata": {
        "id": "Rd5UH2W4h9id"
      },
      "execution_count": null,
      "outputs": []
    },
    {
      "cell_type": "markdown",
      "source": [
        "run streamlit app in background"
      ],
      "metadata": {
        "id": "i-8SEC83mEN4"
      }
    },
    {
      "cell_type": "code",
      "source": [
        "%cd /content/tools/\n",
        "!streamlit run app.py &>/content/logs.txt &"
      ],
      "metadata": {
        "id": "agQ6w795mCvd"
      },
      "execution_count": null,
      "outputs": []
    },
    {
      "cell_type": "markdown",
      "source": [
        "## Expose the port 8501\n",
        "Then just click in the `url` showed.\n",
        "\n",
        "A `log.txt`file will be created."
      ],
      "metadata": {
        "id": "oUmT2a3dicky"
      }
    },
    {
      "cell_type": "code",
      "source": [
        "!npx localtunnel --port 8501"
      ],
      "metadata": {
        "id": "E0nOgWSFmSL3"
      },
      "execution_count": null,
      "outputs": []
    },
    {
      "cell_type": "markdown",
      "source": [
        "click the link and proceed to the app"
      ],
      "metadata": {
        "id": "kIgnGFftmX8q"
      }
    },
    {
      "cell_type": "code",
      "source": [],
      "metadata": {
        "id": "28rN_TY9mWJD"
      },
      "execution_count": null,
      "outputs": []
    }
  ]
}